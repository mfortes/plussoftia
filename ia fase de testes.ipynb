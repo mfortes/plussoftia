{
  "nbformat": 4,
  "nbformat_minor": 0,
  "metadata": {
    "colab": {
      "provenance": []
    },
    "kernelspec": {
      "name": "python3",
      "display_name": "Python 3"
    },
    "language_info": {
      "name": "python"
    }
  },
  "cells": [
    {
      "cell_type": "code",
      "execution_count": 3,
      "metadata": {
        "colab": {
          "base_uri": "https://localhost:8080/"
        },
        "id": "10wwLCYqeWUO",
        "outputId": "cae97993-40db-4bdd-da43-fd14ed73f116"
      },
      "outputs": [
        {
          "output_type": "stream",
          "name": "stdout",
          "text": [
            "Erro médio quadrático para prever a compra com base na idade: 0.1479480522091389\n",
            "Erro médio quadrático para prever a compra com base no salário: 0.22855651697122417\n"
          ]
        }
      ],
      "source": [
        "import pandas as pd\n",
        "from sklearn.model_selection import train_test_split\n",
        "from sklearn.linear_model import LinearRegression\n",
        "from sklearn.metrics import mean_squared_error\n",
        "\n",
        "\n",
        "data = pd.read_csv('/content/car_data.csv')\n",
        "\n",
        "X = data[['Age']]\n",
        "y_age = data['Purchased']\n",
        "y_salary = data['AnnualSalary']\n",
        "\n",
        "X_train, X_test, y_age_train, y_age_test = train_test_split(X, y_age, test_size=0.2, random_state=42)\n",
        "\n",
        "model_age_purchase = LinearRegression()\n",
        "model_age_purchase.fit(X_train, y_age_train)\n",
        "\n",
        "\n",
        "predictions_age_purchase = model_age_purchase.predict(X_test)\n",
        "\n",
        "\n",
        "mse_age_purchase = mean_squared_error(y_age_test, predictions_age_purchase)\n",
        "print(\"Erro médio quadrático para prever a compra com base na idade:\", mse_age_purchase)\n",
        "\n",
        "\n",
        "X = data[['AnnualSalary']]\n",
        "y_age = data['Purchased']\n",
        "\n",
        "\n",
        "X_train, X_test, y_salary_train, y_salary_test = train_test_split(X, y_age, test_size=0.2, random_state=42)\n",
        "\n",
        "\n",
        "model_salary_purchase = LinearRegression()\n",
        "model_salary_purchase.fit(X_train, y_salary_train)\n",
        "\n",
        "predictions_salary_purchase = model_salary_purchase.predict(X_test)\n",
        "\n",
        "\n",
        "mse_salary_purchase = mean_squared_error(y_salary_test, predictions_salary_purchase)\n",
        "print(\"Erro médio quadrático para prever a compra com base no salário:\", mse_salary_purchase)"
      ]
    },
    {
      "cell_type": "code",
      "source": [
        "import pandas as pd\n",
        "from sklearn.model_selection import train_test_split\n",
        "from sklearn.linear_model import LinearRegression\n",
        "from sklearn.metrics import mean_squared_error\n",
        "\n",
        "\n",
        "data = pd.read_csv('car_data.csv')\n",
        "\n",
        "\n",
        "X = data[['Age']]\n",
        "y = data['Purchased']\n",
        "\n",
        "\n",
        "X_train, X_test, y_train, y_test = train_test_split(X, y, test_size=0.2, random_state=42)\n",
        "\n",
        "\n",
        "model_age_purchase = LinearRegression()\n",
        "model_age_purchase.fit(X_train, y_train)\n",
        "\n",
        "\n",
        "predictions = model_age_purchase.predict(X)\n",
        "\n",
        "\n",
        "data['PredictedProbability'] = predictions\n",
        "\n",
        "\n",
        "max_purchase_prob_age = data.loc[data['PredictedProbability'].idxmax()]['Age']\n",
        "\n",
        "print(\"Idade com mais chances de comprar um carro:\", max_purchase_prob_age)\n"
      ],
      "metadata": {
        "colab": {
          "base_uri": "https://localhost:8080/"
        },
        "id": "b4gk9xWch5Ed",
        "outputId": "4c3935ea-29fc-49bd-9527-b67f4dab4156"
      },
      "execution_count": 4,
      "outputs": [
        {
          "output_type": "stream",
          "name": "stdout",
          "text": [
            "Idade com mais chances de comprar um carro: 63\n"
          ]
        }
      ]
    },
    {
      "cell_type": "code",
      "source": [
        "import pandas as pd\n",
        "\n",
        "\n",
        "data = pd.read_csv('car_data.csv')\n",
        "\n",
        "\n",
        "max_purchase_row = data.loc[data['Purchased'].idxmax()]\n",
        "\n",
        "\n",
        "max_purchase_gender = max_purchase_row['Gender']\n",
        "\n",
        "print(\"Gênero de quem mais compra carros:\", max_purchase_gender)\n"
      ],
      "metadata": {
        "colab": {
          "base_uri": "https://localhost:8080/"
        },
        "id": "q91HuKsgiHdA",
        "outputId": "f1e05877-6afb-4ed8-fa76-be45c5605530"
      },
      "execution_count": 5,
      "outputs": [
        {
          "output_type": "stream",
          "name": "stdout",
          "text": [
            "Gênero de quem mais compra carros: Male\n"
          ]
        }
      ]
    },
    {
      "cell_type": "code",
      "source": [
        "import pandas as pd\n",
        "\n",
        "\n",
        "data = pd.read_csv('car_data.csv')\n",
        "\n",
        "\n",
        "purchased_data = data[data['Purchased'] == 1]\n",
        "\n",
        "\n",
        "average_salary = purchased_data['AnnualSalary'].mean()\n",
        "\n",
        "print(\"Salário médio das pessoas que mais compram carros:\", average_salary)\n"
      ],
      "metadata": {
        "colab": {
          "base_uri": "https://localhost:8080/"
        },
        "id": "iDxlbL9_gmwl",
        "outputId": "42732c68-6b65-4e9a-8107-cb0d4551258e"
      },
      "execution_count": 7,
      "outputs": [
        {
          "output_type": "stream",
          "name": "stdout",
          "text": [
            "Salário médio das pessoas que mais compram carros: 88033.58208955223\n"
          ]
        }
      ]
    },
    {
      "cell_type": "code",
      "source": [
        "from IPython.display import HTML, display\n",
        "\n",
        "\n",
        "def create_test_page(max_purchase_gender, max_purchase_age, average_salary):\n",
        "    html_content = f\"\"\"\n",
        "    <h1>Publico alvo</h1>\n",
        "    <p>O gênero da pessoa que mais compra carros é: {max_purchase_gender}</p>\n",
        "    <p>A idade da pessoa que mais compra carros é: {max_purchase_age}</p>\n",
        "    <p>O salário médio das pessoas que mais compram carros é: R$ {average_salary}</p>\n",
        "    \"\"\"\n",
        "    display(HTML(html_content))\n",
        "\n",
        "\n",
        "create_test_page(max_purchase_gender, max_purchase_prob_age, average_salary)\n"
      ],
      "metadata": {
        "colab": {
          "base_uri": "https://localhost:8080/",
          "height": 147
        },
        "id": "6eum0a_zirwP",
        "outputId": "ee752121-372e-4d11-a5bb-a3f95433ed2f"
      },
      "execution_count": 29,
      "outputs": [
        {
          "output_type": "display_data",
          "data": {
            "text/plain": [
              "<IPython.core.display.HTML object>"
            ],
            "text/html": [
              "\n",
              "    <h1>Publico alvo</h1>\n",
              "    <p>O gênero da pessoa que mais compra carros é: Male</p>\n",
              "    <p>A idade da pessoa que mais compra carros é: 63</p>\n",
              "    <p>O salário médio das pessoas que mais compram carros é: R$ 88033.58208955223</p>\n",
              "    "
            ]
          },
          "metadata": {}
        }
      ]
    },
    {
      "cell_type": "code",
      "source": [
        "import pandas as pd\n",
        "import numpy as np\n",
        "\n",
        "\n",
        "data = pd.read_csv('car_data.csv')\n",
        "\n",
        "\n",
        "purchased_data = data[data['Purchased'] == 1]\n",
        "\n",
        "\n",
        "mean_age = purchased_data['Age'].mean()\n",
        "std_age = purchased_data['Age'].std()\n",
        "\n",
        "\n",
        "confidence_level = 0.95\n",
        "\n",
        "\n",
        "margin_of_error = 1.96 * (std_age / np.sqrt(len(purchased_data)))\n",
        "lower_bound = mean_age - margin_of_error\n",
        "upper_bound = mean_age + margin_of_error\n",
        "\n",
        "print(\"Intervalo de idade das pessoas que mais compram carros:\")\n",
        "print(\"Média de idade:\", mean_age)\n",
        "print(\"Desvio padrão de idade:\", std_age)\n",
        "print(\"Intervalo de confiança (\", confidence_level * 100, \"%):\", (lower_bound, upper_bound))\n"
      ],
      "metadata": {
        "colab": {
          "base_uri": "https://localhost:8080/"
        },
        "id": "tAXqiv8wjMDX",
        "outputId": "3a67e238-7803-4fee-c5bc-51c1bc5dc81e"
      },
      "execution_count": 13,
      "outputs": [
        {
          "output_type": "stream",
          "name": "stdout",
          "text": [
            "Intervalo de idade das pessoas que mais compram carros:\n",
            "Média de idade: 48.146766169154226\n",
            "Desvio padrão de idade: 8.54361566133614\n",
            "Intervalo de confiança ( 95.0 %): (47.311577203297006, 48.98195513501145)\n"
          ]
        }
      ]
    },
    {
      "cell_type": "code",
      "source": [
        "import pandas as pd\n",
        "import numpy as np\n",
        "\n",
        "data = pd.read_csv('car_data.csv')\n",
        "\n",
        "\n",
        "purchased_data = data[data['Purchased'] == 1]\n",
        "\n",
        "\n",
        "mean_age = purchased_data['Age'].mean()\n",
        "std_age = purchased_data['Age'].std()\n",
        "\n",
        "\n",
        "confidence_level = 0.97\n",
        "\n",
        "\n",
        "margin_of_error = 1.96 * (std_age / np.sqrt(len(purchased_data)))\n",
        "lower_bound = mean_age - margin_of_error\n",
        "upper_bound = mean_age + margin_of_error\n",
        "\n",
        "lower_bound = int(round(lower_bound, 0))\n",
        "upper_bound = int(round(upper_bound, 0))\n",
        "\n",
        "print(\"Intervalo de idade das pessoas que mais compram carros:\")\n",
        "print(\"Média de idade:\", int(round(mean_age, 0)))\n",
        "print(\"Desvio padrão de idade:\", int(round(std_age, 0)))\n",
        "print(\"Intervalo de confiança (\", confidence_level * 100, \"%):\", (lower_bound, upper_bound))\n"
      ],
      "metadata": {
        "colab": {
          "base_uri": "https://localhost:8080/"
        },
        "id": "ScSiQWbpjdtO",
        "outputId": "49cb8e62-9ab6-48ba-dec4-91d26cc30d2e"
      },
      "execution_count": 27,
      "outputs": [
        {
          "output_type": "stream",
          "name": "stdout",
          "text": [
            "Intervalo de idade das pessoas que mais compram carros:\n",
            "Média de idade: 48\n",
            "Desvio padrão de idade: 9\n",
            "Intervalo de confiança ( 97.0 %): (47, 49)\n"
          ]
        }
      ]
    },
    {
      "cell_type": "code",
      "source": [
        "from IPython.display import HTML\n",
        "\n",
        "\n",
        "mean_age = 48\n",
        "std_age = 9\n",
        "confidence_level = 0.97\n",
        "lower_bound = 47\n",
        "upper_bound = 49\n",
        "\n",
        "\n",
        "html_content = f\"\"\"\n",
        "<!DOCTYPE html>\n",
        "<html>\n",
        "<head>\n",
        "    <title>Intervalo de Idade das Pessoas que Mais Compram Carros</title>\n",
        "    <style>\n",
        "        body {{\n",
        "            font-family: Arial, sans-serif;\n",
        "            margin: 20px;\n",
        "        }}\n",
        "        h1 {{\n",
        "            color: #000;\n",
        "        }}\n",
        "        p {{\n",
        "            margin-bottom: 10px;\n",
        "        }}\n",
        "    </style>\n",
        "</head>\n",
        "<body>\n",
        "    <h1>Intervalo de Idade das Pessoas que Mais Compram Carros</h1>\n",
        "    <p>Média de idade: {mean_age}</p>\n",
        "    <p>Desvio padrão de idade: {std_age}</p>\n",
        "    <p>Intervalo de confiança ({confidence_level * 100}%): {lower_bound} - {upper_bound}</p>\n",
        "</body>\n",
        "</html>\n",
        "\"\"\"\n",
        "\n",
        "\n",
        "HTML(html_content)\n"
      ],
      "metadata": {
        "colab": {
          "base_uri": "https://localhost:8080/",
          "height": 159
        },
        "id": "PEmrK8eXk6uB",
        "outputId": "9dd4625f-1521-4e34-8348-004c8c906eda"
      },
      "execution_count": 28,
      "outputs": [
        {
          "output_type": "execute_result",
          "data": {
            "text/plain": [
              "<IPython.core.display.HTML object>"
            ],
            "text/html": [
              "\n",
              "<!DOCTYPE html>\n",
              "<html>\n",
              "<head>\n",
              "    <title>Intervalo de Idade das Pessoas que Mais Compram Carros</title>\n",
              "    <style>\n",
              "        body {\n",
              "            font-family: Arial, sans-serif;\n",
              "            margin: 20px;\n",
              "        }\n",
              "        h1 {\n",
              "            color: #000;\n",
              "        }\n",
              "        p {\n",
              "            margin-bottom: 10px;\n",
              "        }\n",
              "    </style>\n",
              "</head>\n",
              "<body>\n",
              "    <h1>Intervalo de Idade das Pessoas que Mais Compram Carros</h1>\n",
              "    <p>Média de idade: 48</p>\n",
              "    <p>Desvio padrão de idade: 9</p>\n",
              "    <p>Intervalo de confiança (97.0%): 47 - 49</p>\n",
              "</body>\n",
              "</html>\n"
            ]
          },
          "metadata": {},
          "execution_count": 28
        }
      ]
    },
    {
      "cell_type": "markdown",
      "source": [
        "# Nova seção"
      ],
      "metadata": {
        "id": "BTTDEa_Tfp2O"
      }
    }
  ]
}